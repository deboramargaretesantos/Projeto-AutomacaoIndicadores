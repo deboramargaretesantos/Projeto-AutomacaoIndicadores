{
 "cells": [
  {
   "cell_type": "markdown",
   "metadata": {},
   "source": [
    "### Passo 1 - Importar Arquivos e Bibliotecas"
   ]
  },
  {
   "cell_type": "code",
   "execution_count": 15,
   "metadata": {},
   "outputs": [
    {
     "name": "stdout",
     "output_type": "stream",
     "text": [
      "                                Loja      Gerente  \\\n",
      "0                 Iguatemi Esplanada       Helena   \n",
      "1               Shopping Midway Mall        Alice   \n",
      "2                     Norte Shopping        Laura   \n",
      "3        Shopping Iguatemi Fortaleza      Manuela   \n",
      "4           Shopping União de Osasco    Valentina   \n",
      "5         Shopping Center Interlagos       Sophia   \n",
      "6                     Rio Mar Recife     Isabella   \n",
      "7                  Salvador Shopping      Heloisa   \n",
      "8         Rio Mar Shopping Fortaleza        Luiza   \n",
      "9   Shopping Center Leste Aricanduva        Julia   \n",
      "10                 Ribeirão Shopping       Lorena   \n",
      "11                  Shopping Morumbi        Livia   \n",
      "12         Parque Dom Pedro Shopping  Maria Luiza   \n",
      "13               Bourbon Shopping SP      Cecilia   \n",
      "14       Palladium Shopping Curitiba         Eloa   \n",
      "15         Passei das Águas Shopping       Miguel   \n",
      "16        Center Shopping Uberlândia       Arthur   \n",
      "17                   Shopping Recife       Heitor   \n",
      "18               Shopping Vila Velha     Bernardo   \n",
      "19                Shopping SP Market         Davi   \n",
      "20                 Shopping Eldorado         Theo   \n",
      "21               Shopping Ibirapuera      Lorenzo   \n",
      "22      Novo Shopping Ribeirão Preto      Gabriel   \n",
      "23                 Iguatemi Campinas        Pedro   \n",
      "24                    Shopping Barra     Benjamin   \n",
      "25                         Diretoria    Diretoria   \n",
      "\n",
      "                                            E-mail  \n",
      "0        deboramargaretedossantos+helena@gmail.com  \n",
      "1         deboramargaretedossantos+alice@gmail.com  \n",
      "2         deboramargaretedossantos+laura@gmail.com  \n",
      "3       deboramargaretedossantos+manuela@gmail.com  \n",
      "4     deboramargaretedossantos+valentina@gmail.com  \n",
      "5        deboramargaretedossantos+sophia@gmail.com  \n",
      "6      deboramargaretedossantos+isabella@gmail.com  \n",
      "7       deboramargaretedossantos+heloisa@gmail.com  \n",
      "8         deboramargaretedossantos+luiza@gmail.com  \n",
      "9         deboramargaretedossantos+julia@gmail.com  \n",
      "10       deboramargaretedossantos+lorena@gmail.com  \n",
      "11        deboramargaretedossantos+livia@gmail.com  \n",
      "12  deboramargaretedossantos+maria_luiza@gmail.com  \n",
      "13      deboramargaretedossantos+cecilia@gmail.com  \n",
      "14         deboramargaretedossantos+eloa@gmail.com  \n",
      "15       deboramargaretedossantos+miguel@gmail.com  \n",
      "16       deboramargaretedossantos+arthur@gmail.com  \n",
      "17      deboramargaretedossantosr+heitor@gmail.com  \n",
      "18     deboramargaretedossantos+bernardo@gmail.com  \n",
      "19         deboramargaretedossantos+davi@gmail.com  \n",
      "20         deboramargaretedossantos+theo@gmail.com  \n",
      "21      deboramargaretedossantos+lorenzo@gmail.com  \n",
      "22      deboramargaretedossantos+gabriel@gmail.com  \n",
      "23        deboramargaretedossantos+pedro@gmail.com  \n",
      "24     deboramargaretedossantos+benjamin@gmail.com  \n",
      "25    deboramargaretedossantos+diretoria@gmail.com  \n",
      "    ID Loja                              Loja\n",
      "0         1                Iguatemi Esplanada\n",
      "1         2              Shopping Midway Mall\n",
      "2         3                    Norte Shopping\n",
      "3         4       Shopping Iguatemi Fortaleza\n",
      "4         5          Shopping União de Osasco\n",
      "5         6        Shopping Center Interlagos\n",
      "6         7                    Rio Mar Recife\n",
      "7         8                 Salvador Shopping\n",
      "8         9        Rio Mar Shopping Fortaleza\n",
      "9        10  Shopping Center Leste Aricanduva\n",
      "10       11                 Ribeirão Shopping\n",
      "11       12                  Shopping Morumbi\n",
      "12       13         Parque Dom Pedro Shopping\n",
      "13       14               Bourbon Shopping SP\n",
      "14       15       Palladium Shopping Curitiba\n",
      "15       16         Passei das Águas Shopping\n",
      "16       17        Center Shopping Uberlândia\n",
      "17       18                   Shopping Recife\n",
      "18       19               Shopping Vila Velha\n",
      "19       20                Shopping SP Market\n",
      "20       21                 Shopping Eldorado\n",
      "21       22               Shopping Ibirapuera\n",
      "22       23      Novo Shopping Ribeirão Preto\n",
      "23       24                 Iguatemi Campinas\n",
      "24       25                    Shopping Barra\n",
      "        Código Venda       Data  ID Loja           Produto  Quantidade  \\\n",
      "0                  1 2019-01-01        1    Sapato Estampa           1   \n",
      "1                  1 2019-01-01        1          Camiseta           2   \n",
      "2                  1 2019-01-01        1     Sapato Xadrez           1   \n",
      "3                  2 2019-01-02        3           Relógio           3   \n",
      "4                  2 2019-01-02        3      Chinelo Liso           1   \n",
      "...              ...        ...      ...               ...         ...   \n",
      "100994         69996 2019-12-26       17    Short Listrado           2   \n",
      "100995         69996 2019-12-26       17           Mochila           4   \n",
      "100996         69996 2019-12-26       17  Pulseira Estampa           1   \n",
      "100997         69997 2019-12-26       11   Camisa Listrado           1   \n",
      "100998         69997 2019-12-26       11       Short Linho           2   \n",
      "\n",
      "        Valor Unitário  Valor Final  \n",
      "0                  358          358  \n",
      "1                  180          360  \n",
      "2                  368          368  \n",
      "3                  200          600  \n",
      "4                   71           71  \n",
      "...                ...          ...  \n",
      "100994             102          204  \n",
      "100995             270         1080  \n",
      "100996              87           87  \n",
      "100997             108          108  \n",
      "100998             133          266  \n",
      "\n",
      "[100999 rows x 7 columns]\n"
     ]
    }
   ],
   "source": [
    "import pandas as pd\n",
    "\n",
    "emails = pd.read_excel(r'Bases de Dados\\Emails.xlsx')\n",
    "lojas = pd.read_csv(r'Bases de Dados\\Lojas.csv', encoding='latin1', sep=';')\n",
    "vendas = pd.read_excel(r'Bases de Dados\\Vendas.xlsx')\n",
    "\n",
    "print(emails)\n",
    "print(lojas)\n",
    "print(vendas) "
   ]
  },
  {
   "cell_type": "markdown",
   "metadata": {},
   "source": [
    "### Passo 2 - Definir Criar uma Tabela para cada Loja e Definir o dia do Indicador"
   ]
  },
  {
   "cell_type": "code",
   "execution_count": 16,
   "metadata": {},
   "outputs": [
    {
     "name": "stdout",
     "output_type": "stream",
     "text": [
      "        Código Venda       Data  ID Loja           Produto  Quantidade  \\\n",
      "0                  1 2019-01-01        1    Sapato Estampa           1   \n",
      "1                  1 2019-01-01        1          Camiseta           2   \n",
      "2                  1 2019-01-01        1     Sapato Xadrez           1   \n",
      "3                  2 2019-01-02        3           Relógio           3   \n",
      "4                  2 2019-01-02        3      Chinelo Liso           1   \n",
      "...              ...        ...      ...               ...         ...   \n",
      "100994         69996 2019-12-26       17    Short Listrado           2   \n",
      "100995         69996 2019-12-26       17           Mochila           4   \n",
      "100996         69996 2019-12-26       17  Pulseira Estampa           1   \n",
      "100997         69997 2019-12-26       11   Camisa Listrado           1   \n",
      "100998         69997 2019-12-26       11       Short Linho           2   \n",
      "\n",
      "        Valor Unitário  Valor Final                        Loja  \n",
      "0                  358          358          Iguatemi Esplanada  \n",
      "1                  180          360          Iguatemi Esplanada  \n",
      "2                  368          368          Iguatemi Esplanada  \n",
      "3                  200          600              Norte Shopping  \n",
      "4                   71           71              Norte Shopping  \n",
      "...                ...          ...                         ...  \n",
      "100994             102          204  Center Shopping Uberlândia  \n",
      "100995             270         1080  Center Shopping Uberlândia  \n",
      "100996              87           87  Center Shopping Uberlândia  \n",
      "100997             108          108           Ribeirão Shopping  \n",
      "100998             133          266           Ribeirão Shopping  \n",
      "\n",
      "[100999 rows x 8 columns]\n"
     ]
    }
   ],
   "source": [
    "#incluir nome das lojas em vendas\n",
    "\n",
    "vendas = vendas.merge(lojas, on = 'ID Loja')\n",
    "print(vendas)\n"
   ]
  },
  {
   "cell_type": "code",
   "execution_count": 19,
   "metadata": {},
   "outputs": [],
   "source": [
    "dicionario_lojas = {}\n",
    "for loja in lojas['Loja']:\n",
    "    dicionario_lojas[loja] = vendas.loc[vendas['Loja']==loja, :]"
   ]
  },
  {
   "cell_type": "markdown",
   "metadata": {},
   "source": [
    "### Passo 3 - Salvar a planilha na pasta de backup"
   ]
  },
  {
   "cell_type": "code",
   "execution_count": null,
   "metadata": {},
   "outputs": [],
   "source": []
  },
  {
   "cell_type": "markdown",
   "metadata": {},
   "source": [
    "### Passo 4 - Calcular o indicador para 1 loja"
   ]
  },
  {
   "cell_type": "code",
   "execution_count": null,
   "metadata": {
    "scrolled": true
   },
   "outputs": [],
   "source": []
  },
  {
   "cell_type": "markdown",
   "metadata": {},
   "source": [
    "### Passo 5 - Enviar por e-mail para o gerente"
   ]
  },
  {
   "cell_type": "code",
   "execution_count": null,
   "metadata": {},
   "outputs": [],
   "source": []
  },
  {
   "cell_type": "markdown",
   "metadata": {},
   "source": [
    "### Passo 6 - Automatizar todas as lojas"
   ]
  },
  {
   "cell_type": "markdown",
   "metadata": {},
   "source": [
    "### Passo 7 - Criar ranking para diretoria"
   ]
  },
  {
   "cell_type": "code",
   "execution_count": null,
   "metadata": {},
   "outputs": [],
   "source": []
  },
  {
   "cell_type": "markdown",
   "metadata": {},
   "source": [
    "### Passo 8 - Enviar e-mail para diretoria"
   ]
  },
  {
   "cell_type": "code",
   "execution_count": null,
   "metadata": {},
   "outputs": [],
   "source": []
  }
 ],
 "metadata": {
  "kernelspec": {
   "display_name": "Python 3",
   "language": "python",
   "name": "python3"
  },
  "language_info": {
   "codemirror_mode": {
    "name": "ipython",
    "version": 3
   },
   "file_extension": ".py",
   "mimetype": "text/x-python",
   "name": "python",
   "nbconvert_exporter": "python",
   "pygments_lexer": "ipython3",
   "version": "3.12.3"
  }
 },
 "nbformat": 4,
 "nbformat_minor": 4
}
